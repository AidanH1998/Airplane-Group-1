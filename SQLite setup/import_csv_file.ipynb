{
 "cells": [
  {
   "cell_type": "code",
   "execution_count": null,
   "id": "3faae2ea",
   "metadata": {},
   "outputs": [],
   "source": [
    "connection = sqlite3.connect(\"file.db\")"
   ]
  },
  {
   "cell_type": "raw",
   "id": "aa9d5ff3",
   "metadata": {},
   "source": [
    "cursor = connection.cursor()"
   ]
  },
  {
   "cell_type": "code",
   "execution_count": null,
   "id": "bd1958db",
   "metadata": {},
   "outputs": [],
   "source": [
    "with open('values.csv','r')as file:\n",
    "    no_records = 0\n",
    "    for row in file:\n",
    "        cursor.execute(\"INSERT INTO airplaneTable VALUES (?,?,?,?,?,?,?,?,?)\",row.split(\",\"))\n",
    "        connection.commit()\n",
    "        no_record += 1"
   ]
  },
  {
   "cell_type": "code",
   "execution_count": null,
   "id": "972b3c10",
   "metadata": {},
   "outputs": [],
   "source": [
    "connection.close()"
   ]
  },
  {
   "cell_type": "code",
   "execution_count": null,
   "id": "9c4401fd",
   "metadata": {},
   "outputs": [],
   "source": [
    "print('\\n{} Record Transferred'.format(no_records))"
   ]
  }
 ],
 "metadata": {
  "kernelspec": {
   "display_name": "Python 3 (ipykernel)",
   "language": "python",
   "name": "python3"
  },
  "language_info": {
   "codemirror_mode": {
    "name": "ipython",
    "version": 3
   },
   "file_extension": ".py",
   "mimetype": "text/x-python",
   "name": "python",
   "nbconvert_exporter": "python",
   "pygments_lexer": "ipython3",
   "version": "3.9.7"
  }
 },
 "nbformat": 4,
 "nbformat_minor": 5
}
