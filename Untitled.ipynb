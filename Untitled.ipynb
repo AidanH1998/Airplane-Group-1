{
 "cells": [
  {
   "cell_type": "code",
   "execution_count": 1,
   "id": "e1d485c3",
   "metadata": {},
   "outputs": [],
   "source": [
    "import pandas as pd"
   ]
  },
  {
   "cell_type": "code",
   "execution_count": 2,
   "id": "8119fde5",
   "metadata": {},
   "outputs": [],
   "source": [
    "MSFT_df = pd.read_csv(\"MSFT_Stock.csv\")"
   ]
  },
  {
   "cell_type": "code",
   "execution_count": 4,
   "id": "2f320260",
   "metadata": {},
   "outputs": [
    {
     "data": {
      "text/plain": [
       "Unnamed: 0     object\n",
       "open          float64\n",
       "high          float64\n",
       "low           float64\n",
       "close         float64\n",
       "volume          int64\n",
       "dtype: object"
      ]
     },
     "execution_count": 4,
     "metadata": {},
     "output_type": "execute_result"
    }
   ],
   "source": [
    "MSFT_df.dtypes"
   ]
  },
  {
   "cell_type": "code",
   "execution_count": 9,
   "id": "c1349342",
   "metadata": {},
   "outputs": [
    {
     "data": {
      "text/html": [
       "<div>\n",
       "<style scoped>\n",
       "    .dataframe tbody tr th:only-of-type {\n",
       "        vertical-align: middle;\n",
       "    }\n",
       "\n",
       "    .dataframe tbody tr th {\n",
       "        vertical-align: top;\n",
       "    }\n",
       "\n",
       "    .dataframe thead th {\n",
       "        text-align: right;\n",
       "    }\n",
       "</style>\n",
       "<table border=\"1\" class=\"dataframe\">\n",
       "  <thead>\n",
       "    <tr style=\"text-align: right;\">\n",
       "      <th></th>\n",
       "      <th>Unnamed: 0</th>\n",
       "      <th>open</th>\n",
       "      <th>high</th>\n",
       "      <th>low</th>\n",
       "      <th>close</th>\n",
       "      <th>volume</th>\n",
       "    </tr>\n",
       "  </thead>\n",
       "  <tbody>\n",
       "    <tr>\n",
       "      <th>0</th>\n",
       "      <td>2001-03-16</td>\n",
       "      <td>26.25000</td>\n",
       "      <td>27.56250</td>\n",
       "      <td>26.24219</td>\n",
       "      <td>27.28125</td>\n",
       "      <td>112848800</td>\n",
       "    </tr>\n",
       "    <tr>\n",
       "      <th>1</th>\n",
       "      <td>2001-03-19</td>\n",
       "      <td>27.25000</td>\n",
       "      <td>27.75000</td>\n",
       "      <td>26.56250</td>\n",
       "      <td>27.15625</td>\n",
       "      <td>61036400</td>\n",
       "    </tr>\n",
       "    <tr>\n",
       "      <th>2</th>\n",
       "      <td>2001-03-20</td>\n",
       "      <td>27.28125</td>\n",
       "      <td>28.06250</td>\n",
       "      <td>26.31250</td>\n",
       "      <td>26.34375</td>\n",
       "      <td>91822800</td>\n",
       "    </tr>\n",
       "    <tr>\n",
       "      <th>3</th>\n",
       "      <td>2001-03-21</td>\n",
       "      <td>26.12500</td>\n",
       "      <td>26.62500</td>\n",
       "      <td>24.87500</td>\n",
       "      <td>25.03125</td>\n",
       "      <td>124988600</td>\n",
       "    </tr>\n",
       "    <tr>\n",
       "      <th>4</th>\n",
       "      <td>2001-03-22</td>\n",
       "      <td>25.28125</td>\n",
       "      <td>27.03125</td>\n",
       "      <td>25.25000</td>\n",
       "      <td>27.00000</td>\n",
       "      <td>126363200</td>\n",
       "    </tr>\n",
       "    <tr>\n",
       "      <th>...</th>\n",
       "      <td>...</td>\n",
       "      <td>...</td>\n",
       "      <td>...</td>\n",
       "      <td>...</td>\n",
       "      <td>...</td>\n",
       "      <td>...</td>\n",
       "    </tr>\n",
       "    <tr>\n",
       "      <th>4995</th>\n",
       "      <td>2021-01-25</td>\n",
       "      <td>229.12000</td>\n",
       "      <td>229.78000</td>\n",
       "      <td>224.22000</td>\n",
       "      <td>229.53000</td>\n",
       "      <td>33152095</td>\n",
       "    </tr>\n",
       "    <tr>\n",
       "      <th>4996</th>\n",
       "      <td>2021-01-26</td>\n",
       "      <td>231.86000</td>\n",
       "      <td>234.17999</td>\n",
       "      <td>230.08000</td>\n",
       "      <td>232.33000</td>\n",
       "      <td>48699200</td>\n",
       "    </tr>\n",
       "    <tr>\n",
       "      <th>4997</th>\n",
       "      <td>2021-01-27</td>\n",
       "      <td>238.00000</td>\n",
       "      <td>240.44000</td>\n",
       "      <td>230.14000</td>\n",
       "      <td>232.89999</td>\n",
       "      <td>69757500</td>\n",
       "    </tr>\n",
       "    <tr>\n",
       "      <th>4998</th>\n",
       "      <td>2021-01-28</td>\n",
       "      <td>235.61000</td>\n",
       "      <td>242.64000</td>\n",
       "      <td>235.09000</td>\n",
       "      <td>238.92999</td>\n",
       "      <td>48990000</td>\n",
       "    </tr>\n",
       "    <tr>\n",
       "      <th>4999</th>\n",
       "      <td>2021-01-29</td>\n",
       "      <td>235.99001</td>\n",
       "      <td>238.01500</td>\n",
       "      <td>231.36000</td>\n",
       "      <td>231.96001</td>\n",
       "      <td>40004239</td>\n",
       "    </tr>\n",
       "  </tbody>\n",
       "</table>\n",
       "<p>5000 rows × 6 columns</p>\n",
       "</div>"
      ],
      "text/plain": [
       "      Unnamed: 0       open       high        low      close     volume\n",
       "0     2001-03-16   26.25000   27.56250   26.24219   27.28125  112848800\n",
       "1     2001-03-19   27.25000   27.75000   26.56250   27.15625   61036400\n",
       "2     2001-03-20   27.28125   28.06250   26.31250   26.34375   91822800\n",
       "3     2001-03-21   26.12500   26.62500   24.87500   25.03125  124988600\n",
       "4     2001-03-22   25.28125   27.03125   25.25000   27.00000  126363200\n",
       "...          ...        ...        ...        ...        ...        ...\n",
       "4995  2021-01-25  229.12000  229.78000  224.22000  229.53000   33152095\n",
       "4996  2021-01-26  231.86000  234.17999  230.08000  232.33000   48699200\n",
       "4997  2021-01-27  238.00000  240.44000  230.14000  232.89999   69757500\n",
       "4998  2021-01-28  235.61000  242.64000  235.09000  238.92999   48990000\n",
       "4999  2021-01-29  235.99001  238.01500  231.36000  231.96001   40004239\n",
       "\n",
       "[5000 rows x 6 columns]"
      ]
     },
     "execution_count": 9,
     "metadata": {},
     "output_type": "execute_result"
    }
   ],
   "source": [
    "MSFT_df.head(5000)"
   ]
  },
  {
   "cell_type": "code",
   "execution_count": null,
   "id": "d34eb4c0",
   "metadata": {},
   "outputs": [],
   "source": []
  }
 ],
 "metadata": {
  "kernelspec": {
   "display_name": "Python 3 (ipykernel)",
   "language": "python",
   "name": "python3"
  },
  "language_info": {
   "codemirror_mode": {
    "name": "ipython",
    "version": 3
   },
   "file_extension": ".py",
   "mimetype": "text/x-python",
   "name": "python",
   "nbconvert_exporter": "python",
   "pygments_lexer": "ipython3",
   "version": "3.9.7"
  }
 },
 "nbformat": 4,
 "nbformat_minor": 5
}
